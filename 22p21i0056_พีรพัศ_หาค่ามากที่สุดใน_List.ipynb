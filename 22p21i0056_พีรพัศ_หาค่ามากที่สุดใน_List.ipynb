{
  "nbformat": 4,
  "nbformat_minor": 0,
  "metadata": {
    "colab": {
      "name": "22p21i0056-พีรพัศ หาค่ามากที่สุดใน List.ipynb",
      "provenance": [],
      "authorship_tag": "ABX9TyMtJ5ij24Xo9XbfvgD74gYr",
      "include_colab_link": true
    },
    "kernelspec": {
      "name": "python3",
      "display_name": "Python 3"
    }
  },
  "cells": [
    {
      "cell_type": "markdown",
      "metadata": {
        "id": "view-in-github",
        "colab_type": "text"
      },
      "source": [
        "<a href=\"https://colab.research.google.com/github/BungPeerapat/AutoclickBot-Pinno-Tiles2/blob/master/22p21i0056_%E0%B8%9E%E0%B8%B5%E0%B8%A3%E0%B8%9E%E0%B8%B1%E0%B8%A8_%E0%B8%AB%E0%B8%B2%E0%B8%84%E0%B9%88%E0%B8%B2%E0%B8%A1%E0%B8%B2%E0%B8%81%E0%B8%97%E0%B8%B5%E0%B9%88%E0%B8%AA%E0%B8%B8%E0%B8%94%E0%B9%83%E0%B8%99_List.ipynb\" target=\"_parent\"><img src=\"https://colab.research.google.com/assets/colab-badge.svg\" alt=\"Open In Colab\"/></a>"
      ]
    },
    {
      "cell_type": "code",
      "metadata": {
        "id": "_-6oV1S5gn4C",
        "colab_type": "code",
        "colab": {
          "base_uri": "https://localhost:8080/",
          "height": 185
        },
        "outputId": "5f05acf6-88d2-4cf5-e9ac-f31bfefbeb1c"
      },
      "source": [
        "\n",
        "## การบ้านหาค่าสูงสุดใน List\n",
        "\n",
        "listnumber = [1,54,4,87,4,5,7,6,98,6,45,87,243,987,1,]\n",
        "listmax = 0\n",
        "\n",
        "print(listnumber)\n",
        "print(\"=================================\")\n",
        "for n in listnumber:\n",
        "    if n > listmax:\n",
        "        listmax = n\n",
        "        print(n)\n",
        "print(\"=================================\")\n",
        "print(\"Max Number in listnumber is : \" , listmax)\n"
      ],
      "execution_count": 1,
      "outputs": [
        {
          "output_type": "stream",
          "text": [
            "[1, 54, 4, 87, 4, 5, 7, 6, 98, 6, 45, 87, 243, 987, 1]\n",
            "=================================\n",
            "1\n",
            "54\n",
            "87\n",
            "98\n",
            "243\n",
            "987\n",
            "=================================\n",
            "Max Number in listnumber is :  987\n"
          ],
          "name": "stdout"
        }
      ]
    }
  ]
}